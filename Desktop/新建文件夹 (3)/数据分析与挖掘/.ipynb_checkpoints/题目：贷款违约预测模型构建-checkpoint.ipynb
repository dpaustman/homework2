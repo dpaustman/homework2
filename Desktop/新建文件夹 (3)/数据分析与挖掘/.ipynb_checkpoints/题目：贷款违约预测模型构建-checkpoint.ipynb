{
 "cells": [
  {
   "cell_type": "markdown",
   "metadata": {},
   "source": [
    "姓名：；学号：\n",
    "\n",
    "案例分析目标\n",
    "给定数据集包含1091条数据，每个样本包含20个字段，数据已进行脱敏处理，每一行代表一个样本，且对于每个样本已标注出其是否违约。要求根据给定数据构建模型来预测用户贷款违约的情况\n",
    "\n",
    "数据模型构建\n",
    "1、贷款违约预测模型需求理解和目标分析（5）\n",
    "\n",
    "（1）目标描述：理解需求产生的背景，梳理出分析的目m标，定位数据挖掘模式（分类，聚类还是关联分析）？\n",
    "\n",
    "（2）引入构建模型需要的python包和数据导入"
   ]
  },
  {
   "cell_type": "markdown",
   "metadata": {},
   "source": [
    "（1）分析的目标：通过用户的历史行为（如历史数据的多维特征和贷款状态是否违约）来训练模型，通过这个模型对新增的贷款人“是否具有偿还能力，是否\n",
    "具有偿债意愿”进行分析，预测贷款申请人是否会发生违约贷款分类算法\n",
    "数据挖掘模式：分类算法\n",
    "（2）引入包及数据导入\n"
   ]
  },
  {
   "cell_type": "code",
   "execution_count": 2,
   "metadata": {},
   "outputs": [
    {
     "name": "stdout",
     "output_type": "stream",
     "text": [
      "<class 'pandas.core.frame.DataFrame'>\n",
      "RangeIndex: 1091 entries, 0 to 1090\n",
      "Data columns (total 19 columns):\n",
      "sex               1091 non-null object\n",
      "degree            1089 non-null object\n",
      "uni_level         1091 non-null object\n",
      "u_loan            1091 non-null object\n",
      "guarantee         1091 non-null object\n",
      "amount            1091 non-null float64\n",
      "income            1091 non-null float64\n",
      "period_m          1091 non-null float64\n",
      "repayment_m       1091 non-null float64\n",
      "repayment_T       1091 non-null float64\n",
      "count             1091 non-null float64\n",
      "c_borrowing       1091 non-null float64\n",
      "c_repayment       1091 non-null float64\n",
      "c_overdue         1091 non-null float64\n",
      "c_fre             1091 non-null float64\n",
      "c_over_fre        1091 non-null float64\n",
      "c_overrate        1091 non-null float64\n",
      "c_over_frerate    1091 non-null float64\n",
      "performance       1091 non-null int64\n",
      "dtypes: float64(13), int64(1), object(5)\n",
      "memory usage: 162.1+ KB\n"
     ]
    }
   ],
   "source": [
    "import numpy as np\n",
    "import pandas as pd\n",
    "import matplotlib as mpl\n",
    "import matplotlib.pyplot as plt\n",
    "import seaborn as sns\n",
    "import warnings; warnings.filterwarnings(action='ignore') #ignore\n",
    "inputfile = 'D:\\lendingdata.csv'\n",
    "data = pd.read_csv(inputfile, encoding = 'gbk')\n",
    "data.info()"
   ]
  },
  {
   "cell_type": "markdown",
   "metadata": {},
   "source": [
    "2、认识数据（15分）\n",
    "\n",
    "（1）阐述每一步数据探索操作的目的（5分）\n",
    "  目的是对要分析的数据有个大概的了解。弄清数据集大小，特征和样本数量，数据类型，数据的概率分布等"
   ]
  },
  {
   "cell_type": "markdown",
   "metadata": {},
   "source": [
    "（2）采用Python matplotlib等数据可视化包完成数据探索代码实现及可视化效果。（10分）"
   ]
  },
  {
   "cell_type": "code",
   "execution_count": 7,
   "metadata": {},
   "outputs": [
    {
     "name": "stdout",
     "output_type": "stream",
     "text": [
      "(1091, 19)\n",
      "    sex    degree uni_level   u_loan guarantee    amount    income  period_m  \\\n",
      "0  male  bachelor     other   travel         Y  0.109063  0.015546  0.505110   \n",
      "1  male  bachelor     other    study         Y  0.109063  0.624677  0.505110   \n",
      "2  male  bachelor      high  trading         N -1.801620 -1.944738  0.505110   \n",
      "3  male       NaN     other    study         N  4.738273  2.795424  0.505110   \n",
      "4  male  bachelor     other   living         N  1.266366  0.063777 -0.130501   \n",
      "\n",
      "   repayment_m  repayment_T     count  c_borrowing  c_repayment  c_overdue  \\\n",
      "0    -0.238010     0.106394 -0.420401     0.556433     0.551220  -0.370189   \n",
      "1    -0.228049     0.146047 -0.542786     1.762922     1.964899  -0.370189   \n",
      "2    -0.818821    -2.216702 -0.787555    -0.879862    -0.774510  -0.370189   \n",
      "3     0.910477     4.678341 -0.053247    -0.018085     0.023526  -0.370189   \n",
      "4     0.210670     1.207284 -0.624375     0.412804     0.472341  -0.370189   \n",
      "\n",
      "      c_fre  c_over_fre  c_overrate  c_over_frerate  performance  \n",
      "0  0.246736   -0.370365   -0.461185       -0.426766            1  \n",
      "1  1.613174   -0.370365   -0.461185       -0.426766            1  \n",
      "2 -0.677620   -0.370365   -0.461185       -0.426766            1  \n",
      "3 -0.436484   -0.370365   -0.461185       -0.426766            1  \n",
      "4  0.005599   -0.370365   -0.461185       -0.426766            1  \n"
     ]
    }
   ],
   "source": [
    "print(data.shape)\n",
    "print(data.head())"
   ]
  },
  {
   "cell_type": "markdown",
   "metadata": {},
   "source": [
    "3、数据预处理（15分）\n",
    "\n",
    "（1）阐述每一步数据预处理操作的目的（5分）\n",
    "数据处理的基本目的是从大量的、可能是杂乱无章的、难以理解的数据中抽取并推导出对于某些特定的人们来说是有价值、有意义的数据"
   ]
  },
  {
   "cell_type": "markdown",
   "metadata": {},
   "source": [
    "（2）采用Python完成数据预处理代码实现及执行效果。（10分）"
   ]
  },
  {
   "cell_type": "code",
   "execution_count": 8,
   "metadata": {},
   "outputs": [
    {
     "name": "stdout",
     "output_type": "stream",
     "text": [
      "Series([], dtype: float64)\n"
     ]
    }
   ],
   "source": [
    "#查看每列属性缺失值的比例\n",
    "check_null = data.isnull().sum().sort_values(ascending=False)/float(len(data)) \n",
    "print(check_null[check_null > 0.2]) # 查看缺失比例大于20%的属性。"
   ]
  },
  {
   "cell_type": "code",
   "execution_count": 9,
   "metadata": {},
   "outputs": [
    {
     "name": "stdout",
     "output_type": "stream",
     "text": [
      "(1091, 19)\n"
     ]
    }
   ],
   "source": [
    "#同值化处理\n",
    "data = data.loc[:,data.apply(pd.Series.nunique) != 1]\n",
    "print(data.shape)"
   ]
  },
  {
   "cell_type": "code",
   "execution_count": 13,
   "metadata": {},
   "outputs": [
    {
     "data": {
      "text/html": [
       "<div>\n",
       "<style scoped>\n",
       "    .dataframe tbody tr th:only-of-type {\n",
       "        vertical-align: middle;\n",
       "    }\n",
       "\n",
       "    .dataframe tbody tr th {\n",
       "        vertical-align: top;\n",
       "    }\n",
       "\n",
       "    .dataframe thead th {\n",
       "        text-align: right;\n",
       "    }\n",
       "</style>\n",
       "<table border=\"1\" class=\"dataframe\">\n",
       "  <thead>\n",
       "    <tr style=\"text-align: right;\">\n",
       "      <th></th>\n",
       "      <th>sex</th>\n",
       "      <th>degree</th>\n",
       "      <th>uni_level</th>\n",
       "      <th>u_loan</th>\n",
       "      <th>guarantee</th>\n",
       "    </tr>\n",
       "  </thead>\n",
       "  <tbody>\n",
       "    <tr>\n",
       "      <td>0</td>\n",
       "      <td>male</td>\n",
       "      <td>bachelor</td>\n",
       "      <td>other</td>\n",
       "      <td>travel</td>\n",
       "      <td>Y</td>\n",
       "    </tr>\n",
       "    <tr>\n",
       "      <td>1</td>\n",
       "      <td>male</td>\n",
       "      <td>bachelor</td>\n",
       "      <td>other</td>\n",
       "      <td>study</td>\n",
       "      <td>Y</td>\n",
       "    </tr>\n",
       "    <tr>\n",
       "      <td>2</td>\n",
       "      <td>male</td>\n",
       "      <td>bachelor</td>\n",
       "      <td>high</td>\n",
       "      <td>trading</td>\n",
       "      <td>N</td>\n",
       "    </tr>\n",
       "    <tr>\n",
       "      <td>3</td>\n",
       "      <td>male</td>\n",
       "      <td>NaN</td>\n",
       "      <td>other</td>\n",
       "      <td>study</td>\n",
       "      <td>N</td>\n",
       "    </tr>\n",
       "    <tr>\n",
       "      <td>4</td>\n",
       "      <td>male</td>\n",
       "      <td>bachelor</td>\n",
       "      <td>other</td>\n",
       "      <td>living</td>\n",
       "      <td>N</td>\n",
       "    </tr>\n",
       "    <tr>\n",
       "      <td>...</td>\n",
       "      <td>...</td>\n",
       "      <td>...</td>\n",
       "      <td>...</td>\n",
       "      <td>...</td>\n",
       "      <td>...</td>\n",
       "    </tr>\n",
       "    <tr>\n",
       "      <td>1086</td>\n",
       "      <td>male</td>\n",
       "      <td>bachelor</td>\n",
       "      <td>other</td>\n",
       "      <td>business</td>\n",
       "      <td>Y</td>\n",
       "    </tr>\n",
       "    <tr>\n",
       "      <td>1087</td>\n",
       "      <td>female</td>\n",
       "      <td>bachelor</td>\n",
       "      <td>other</td>\n",
       "      <td>shopping</td>\n",
       "      <td>Y</td>\n",
       "    </tr>\n",
       "    <tr>\n",
       "      <td>1088</td>\n",
       "      <td>female</td>\n",
       "      <td>bachelor</td>\n",
       "      <td>other</td>\n",
       "      <td>shopping</td>\n",
       "      <td>Y</td>\n",
       "    </tr>\n",
       "    <tr>\n",
       "      <td>1089</td>\n",
       "      <td>female</td>\n",
       "      <td>bachelor</td>\n",
       "      <td>other</td>\n",
       "      <td>travel</td>\n",
       "      <td>Y</td>\n",
       "    </tr>\n",
       "    <tr>\n",
       "      <td>1090</td>\n",
       "      <td>male</td>\n",
       "      <td>college</td>\n",
       "      <td>other</td>\n",
       "      <td>living</td>\n",
       "      <td>Y</td>\n",
       "    </tr>\n",
       "  </tbody>\n",
       "</table>\n",
       "<p>1091 rows × 5 columns</p>\n",
       "</div>"
      ],
      "text/plain": [
       "         sex    degree uni_level    u_loan guarantee\n",
       "0       male  bachelor     other    travel         Y\n",
       "1       male  bachelor     other     study         Y\n",
       "2       male  bachelor      high   trading         N\n",
       "3       male       NaN     other     study         N\n",
       "4       male  bachelor     other    living         N\n",
       "...      ...       ...       ...       ...       ...\n",
       "1086    male  bachelor     other  business         Y\n",
       "1087  female  bachelor     other  shopping         Y\n",
       "1088  female  bachelor     other  shopping         Y\n",
       "1089  female  bachelor     other    travel         Y\n",
       "1090    male  college      other    living         Y\n",
       "\n",
       "[1091 rows x 5 columns]"
      ]
     },
     "execution_count": 13,
     "metadata": {},
     "output_type": "execute_result"
    }
   ],
   "source": [
    "#缺失值处理\n",
    "objectColumns = data.select_dtypes(include=[\"object\"]).columns\n",
    "data[objectColumns].isnull().sum().sort_values(ascending=False)\n",
    "data[objectColumns]"
   ]
  },
  {
   "cell_type": "code",
   "execution_count": 16,
   "metadata": {},
   "outputs": [
    {
     "name": "stdout",
     "output_type": "stream",
     "text": [
      "Index(['sex', 'degree', 'uni_level', 'u_loan', 'guarantee'], dtype='object')\n"
     ]
    }
   ],
   "source": [
    "#数据过滤\n",
    "print(objectColumns)"
   ]
  },
  {
   "cell_type": "code",
   "execution_count": 17,
   "metadata": {},
   "outputs": [],
   "source": [
    "#将以上重复或对构建预测模型没有意义的属性进行删除\n",
    "\n",
    "drop_list = ['sex', 'degree', 'uni_level', 'u_loan', 'guarantee']\n",
    "data.drop(drop_list, axis=1, inplace=True)"
   ]
  },
  {
   "cell_type": "code",
   "execution_count": 18,
   "metadata": {},
   "outputs": [
    {
     "data": {
      "text/plain": [
       "(1091, 0)"
      ]
     },
     "execution_count": 18,
     "metadata": {},
     "output_type": "execute_result"
    }
   ],
   "source": [
    "data.select_dtypes(include = ['object']).shape"
   ]
  },
  {
   "cell_type": "markdown",
   "metadata": {},
   "source": [
    "4、特征选取（特征工程）（15分）\n",
    "\n",
    "（1）简单描述拟采用特征选取方法的原理（5分）\n",
    "特征选择 ( Feature Selection )也称特征子集选择( Feature Subset Selection , FSS ) ，或属性选择( Attribute Selection ) ，是指从全部特征中选取一个特征子集，使构造出来的模型更好。特征选择能剔除不相关(irrelevant)或亢余(redundant )的特征，从而达到减少特征个数，提高模型精确度，减少运行时间的目的。另一方面，选取出真正相关的特征简化了模型，使研究人员易于理解数据产生的过程\n"
   ]
  },
  {
   "cell_type": "markdown",
   "metadata": {},
   "source": [
    "2）采用Python完成特征选取代码实现及特征重要程度展示。（10分）"
   ]
  },
  {
   "cell_type": "code",
   "execution_count": null,
   "metadata": {},
   "outputs": [],
   "source": [
    "#特征衍生\n"
   ]
  },
  {
   "cell_type": "code",
   "execution_count": null,
   "metadata": {},
   "outputs": [],
   "source": [
    "5、模型构建（30分）\n",
    "\n",
    "（1）阐述所选择两种及两种以上算法构建相应的数据挖掘模型的理由？（10分）\n",
    " 1.每个模型都有优缺点和适用范围，单一模型不能准确的反应问题\n",
    " 2.多个模型能从多个角度来反映事物的多样性\n",
    "\n",
    "（2）Python实现算法1构建模型（10分）\n"
   ]
  },
  {
   "cell_type": "code",
   "execution_count": null,
   "metadata": {},
   "outputs": [],
   "source": []
  },
  {
   "cell_type": "markdown",
   "metadata": {},
   "source": [
    "（3）Python实现算法2构建模型（10分）"
   ]
  },
  {
   "cell_type": "code",
   "execution_count": null,
   "metadata": {},
   "outputs": [],
   "source": []
  },
  {
   "cell_type": "markdown",
   "metadata": {},
   "source": [
    "6、模型评估与选择（15分）\n",
    "\n",
    "（1）阐述选择模型评估方法（指标）的原因（5分）\n",
    "1.通过多个训练集训练来获取平均的预测误差，抹平训练集变动带来的影响，\n",
    "2.可以防止某个训练集上训练所得模型表现过好而夸大模型的预测能力\n",
    "\n",
    "（2）模型评估代码实现及最终选择模型的效果展示（10分）"
   ]
  },
  {
   "cell_type": "code",
   "execution_count": null,
   "metadata": {},
   "outputs": [],
   "source": []
  },
  {
   "cell_type": "markdown",
   "metadata": {},
   "source": [
    "结论¶\n",
    "对分析结果和预测模型做简要的描述和总结？（5分）\n",
    "\n",
    "通过逻辑回归模型来对这些数据进行预测判断，构建贷款违约预测模型，建立预测模型，预测正处于贷款期间的人的违约的概率 。在贷款管理方面，如果可以通过构建量化模型对客户的信用等级进行一定的区分。得知了每个账户的违约概率后，可以预估一下未来的坏账比例，及时做好资金安排。也可以对违约概可能性较高的客户进行更加频繁的“关怀”，及时发现问题，以避免损失"
   ]
  }
 ],
 "metadata": {
  "kernelspec": {
   "display_name": "Python 3",
   "language": "python",
   "name": "python3"
  },
  "language_info": {
   "codemirror_mode": {
    "name": "ipython",
    "version": 3
   },
   "file_extension": ".py",
   "mimetype": "text/x-python",
   "name": "python",
   "nbconvert_exporter": "python",
   "pygments_lexer": "ipython3",
   "version": "3.6.4"
  }
 },
 "nbformat": 4,
 "nbformat_minor": 4
}
